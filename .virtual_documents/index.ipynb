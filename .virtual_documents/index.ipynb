


import numpy as np





a = np.array([1,2,3], dtype='int32')
print(a)


b = np.array([[9.0,8.0,7.0],[6.0,5.0,4.0]])
print(b)


# Get Dimension
a.ndim


# Get Shape
b.shape


# Get Type
a.dtype


# Get Size (4 byters per element since its int32)
a.itemsize


# Get total size
a.nbytes


# Get number of elements
a.size





a = np.array([[1,2,3,4,5,6,7],[8,9,10,11,12,13,14]])
print(a)


# Get a specific element [row, column]
a[1, 5]


# Get a specific row 
a[0, :]


# Get a specific column
a[:, 2]


# Getting a little more fancy [startindex:endindex:stepsize]
a[0, 1:-1:2]


a[1,5] = 20

a[:,2] = [1,2]
print(a)





b = np.array([[[1,2],[3,4]],[[5,6],[7,8]]])
print(b)


# Get specific element (work outside in)
b[0,1,1]


# replace 
b[:,1,:] = [[9,9],[8,8]]


b





# All 0s matrix
np.zeros((2,3))


# All 1s matrix
np.ones((4,2,2), dtype='int32')


# Any other number
np.full((2,2), 99)


# Any other number (full_like)
np.full_like(a, 4)


# Random decimal numbers
np.random.rand(4,2)


# Random Integer values
np.random.randint(-4,8, size=(3,3))


# The identity matrix
np.identity(5)


# Repeat an array
arr = np.array([[1,2,3]])
r1 = np.repeat(arr,3, axis=0)
print(r1)


output = np.ones((5,5))
print(output)

z = np.zeros((3,3))
z[1,1] = 9
print(z)

output[1:-1,1:-1] = z
print(output)





a = np.array([1,2,3])
b = a.copy()
b[0] = 100

print(a)





a = np.array([1,2,3,4])
print(a)


a + 2


a - 2


a * 2


a / 2


b = np.array([1,0,1,0])
a + b


a ** 2


# Take the cos
np.cos(a)


# For a lot more (https://docs.scipy.org/doc/numpy/reference/routines.math.html)





a = np.ones((2,3))
print(a)

b = np.full((3,2), 2)
print(b)

np.matmul(a,b)


# Find the determinant
c = np.identity(3)
np.linalg.det(c)


## Reference docs (https://docs.scipy.org/doc/numpy/reference/routines.linalg.html)

# Determinant
# Trace
# Singular Vector Decomposition
# Eigenvalues
# Matrix Norm
# Inverse
# Etc...





stats = np.array([[1,2,3],[4,5,6]])
stats


np.min(stats, axis=1)


np.max(stats, axis=1)


np.sum(stats, axis=1)





before = np.array([[1,2,3,4],[5,6,7,8]])
print(before)

after = before.reshape((8,1))
print(after)


# Vertically stacking vectors
v1 = np.array([1,2,3,4])
v2 = np.array([5,6,7,8])

np.vstack([v1,v2,v1,v2])


# Horizontal  stack
h1 = np.ones((2,4))
h2 = np.zeros((2,2))

np.hstack((h1,h2))





filedata = np.genfromtxt('data.txt', delimiter=',')
filedata = filedata.astype('int32')
print(filedata)





(~((filedata > 50) & (filedata < 100)))



